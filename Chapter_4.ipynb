{
 "cells": [
  {
   "cell_type": "code",
   "execution_count": 6,
   "metadata": {},
   "outputs": [],
   "source": [
    "import numpy as np\n",
    "import math"
   ]
  },
  {
   "cell_type": "markdown",
   "metadata": {},
   "source": [
    "4.3"
   ]
  },
  {
   "cell_type": "code",
   "execution_count": 7,
   "metadata": {},
   "outputs": [],
   "source": [
    "x= [0,math.pi/4,math.pi/2]\n",
    "y=[math.cos(0), math.cos(math.pi/4),math.cos(math.pi/2)]"
   ]
  },
  {
   "cell_type": "code",
   "execution_count": 8,
   "metadata": {},
   "outputs": [
    {
     "data": {
      "text/plain": [
       "[0, 0.7853981633974483, 1.5707963267948966]"
      ]
     },
     "execution_count": 8,
     "metadata": {},
     "output_type": "execute_result"
    }
   ],
   "source": [
    "x"
   ]
  },
  {
   "cell_type": "code",
   "execution_count": 9,
   "metadata": {},
   "outputs": [
    {
     "data": {
      "text/plain": [
       "[1.0, 0.7071067811865476, 6.123233995736766e-17]"
      ]
     },
     "execution_count": 9,
     "metadata": {},
     "output_type": "execute_result"
    }
   ],
   "source": [
    "y"
   ]
  },
  {
   "cell_type": "code",
   "execution_count": 10,
   "metadata": {},
   "outputs": [
    {
     "data": {
      "text/plain": [
       "0.13707783890401884"
      ]
     },
     "execution_count": 10,
     "metadata": {},
     "output_type": "execute_result"
    }
   ],
   "source": [
    "(math.pi / 6) * (math.pi/12 )"
   ]
  },
  {
   "cell_type": "markdown",
   "metadata": {},
   "source": [
    "拉格朗日拟合生成函数！"
   ]
  },
  {
   "cell_type": "code",
   "execution_count": 14,
   "metadata": {},
   "outputs": [],
   "source": [
    "def lagerange_l(x, y):\n",
    "    n = len(x)\n",
    "    def func(a):\n",
    "        sums = 0\n",
    "        for i in range(n):\n",
    "            muls = 1\n",
    "            subs = 1\n",
    "            for j in range(n):\n",
    "                if j != i:\n",
    "                    muls *= (a-x[j])\n",
    "                    subs *= (x[i]-x[j])\n",
    "            sums += y[i] * muls / subs\n",
    "        return sums\n",
    "    return func"
   ]
  },
  {
   "cell_type": "code",
   "execution_count": 36,
   "metadata": {},
   "outputs": [
    {
     "name": "stdout",
     "output_type": "stream",
     "text": [
      "0.8507615832769313\n",
      "0.804737854124365\n",
      "0.8660254037844387\n"
     ]
    }
   ],
   "source": [
    "funcs_2 = lagerange_l( x, y)\n",
    "funcs_1 = lagerange_l(x[:-1],y[:-1])\n",
    "print(funcs_2(math.pi/6))\n",
    "print(funcs_1(math.pi/6))\n",
    "tr = math.cos(math.pi/6)\n",
    "print(tr)"
   ]
  },
  {
   "cell_type": "code",
   "execution_count": 33,
   "metadata": {},
   "outputs": [
    {
     "name": "stdout",
     "output_type": "stream",
     "text": [
      "0.015263820507507408\n",
      "0.06128754966007366\n"
     ]
    }
   ],
   "source": [
    "def get_wrong(tr, ts):\n",
    "    return abs(tr - ts)\n",
    "print(get_wrong(tr, funcs_2(math.pi/6)))\n",
    "print(get_wrong(tr, funcs_1(math.pi/6)))"
   ]
  },
  {
   "cell_type": "code",
   "execution_count": 37,
   "metadata": {},
   "outputs": [
    {
     "name": "stdout",
     "output_type": "stream",
     "text": [
      "0.1380711874576984\n"
     ]
    }
   ],
   "source": [
    "print((math.sqrt(2)-1) / 3)"
   ]
  },
  {
   "cell_type": "code",
   "execution_count": null,
   "metadata": {},
   "outputs": [],
   "source": []
  }
 ],
 "metadata": {
  "interpreter": {
   "hash": "271520d9f8876fa56087d92bb138cc619c4a687ce6e1311621c69b25dedf1981"
  },
  "kernelspec": {
   "display_name": "Python 3.8.5 ('base')",
   "language": "python",
   "name": "python3"
  },
  "language_info": {
   "codemirror_mode": {
    "name": "ipython",
    "version": 3
   },
   "file_extension": ".py",
   "mimetype": "text/x-python",
   "name": "python",
   "nbconvert_exporter": "python",
   "pygments_lexer": "ipython3",
   "version": "3.8.5"
  },
  "orig_nbformat": 4
 },
 "nbformat": 4,
 "nbformat_minor": 2
}
