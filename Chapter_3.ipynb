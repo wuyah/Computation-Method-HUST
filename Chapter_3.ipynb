{
 "cells": [
  {
   "cell_type": "code",
   "execution_count": 1,
   "metadata": {},
   "outputs": [],
   "source": [
    "import numpy as np\n",
    "import math"
   ]
  },
  {
   "cell_type": "code",
   "execution_count": 3,
   "metadata": {},
   "outputs": [],
   "source": [
    "a = [[2,1,-1],[4,3,1],[-2,2,15]]\n",
    "b = [-3, 1, 39]"
   ]
  },
  {
   "cell_type": "code",
   "execution_count": 14,
   "metadata": {},
   "outputs": [],
   "source": [
    "# 一般高斯消元法\n",
    "def Gauss(a,b):\n",
    "    n = len(a)\n",
    "    x = [0]*n\n",
    "    # 消元\n",
    "    for i in range(0, n):\n",
    "        for j in range(i+1, n):\n",
    "            c = -a[j][i]/a[i][i]\n",
    "            for k in range(1,n):\n",
    "                a[j][k] += a[i][k]*c\n",
    "            b[j]+=b[i]*c\n",
    "    x[n-1]=b[n-1]/a[n-1][n-1]\n",
    "    for i in range(n-2, -1, -1):\n",
    "        for j in range(i+1, n):\n",
    "            b[i]-=a[i][j]*x[j]\n",
    "        x[i]=b[i]/a[i][i]\n",
    "    return x"
   ]
  },
  {
   "cell_type": "code",
   "execution_count": null,
   "metadata": {},
   "outputs": [],
   "source": [
    "\n",
    "# store the solution\n",
    "x= []\n",
    "\n",
    "# maximum common divisor\n",
    "def gcd(a,b):\n",
    "    if b == 0:\n",
    "        return a\n",
    "    else:\n",
    "        return gcd(b,a%b)\n",
    "\n",
    "# least common multiple\n",
    "def lcm(a,b):\n",
    "    return a/gcd(a,b)*b\n",
    "\n",
    "#Gauss-Jordan elimination -2:float solution, no integer solution -1: no solution 0:unique solution >0:infinite solution\n",
    "\n",
    "def Gauss(a,equ,var):\n",
    "    i = 0\n",
    "    j = 0\n",
    "    k = 0\n",
    "\n",
    "\n",
    "# convert to step matrix\n",
    "    col = 0\n",
    "    for k in range(equ):\n",
    "        if col < var :\n",
    "            max_r = k\n",
    "            # get the maximum row index in current column\n",
    "            for i in range(k+1,equ):\n",
    "                if (abs(a[i][col])>abs(a[max_r][col])):\n",
    "                    max_r = i\n",
    "\n",
    "            #swap the maximum row into the first row\n",
    "            if max_r != k:\n",
    "                for j in range(k,var+1):\n",
    "                    temp = a[k][j]\n",
    "                    a[k][j] = a[max_r][j]\n",
    "                    a[max_r][j] = temp\n",
    "\n",
    "            # if the value is zero, we should shift right, not right-bottom\n",
    "            if a[k][col] == 0:\n",
    "                k = k-1\n",
    "                continue\n",
    "\n",
    "            # eliminate the value in this column to ensure the nonzero value only in the first row\n",
    "            for i in range(k+1,equ):\n",
    "                if a[i][col] != 0:\n",
    "                    LCM = lcm(abs(a[k][col]),abs(a[i][col]))\n",
    "                    ta = LCM/abs(a[i][col])\n",
    "                    tb = LCM/abs(a[k][col])\n",
    "                    # if the symbol is opposite, we need to add instead of minus\n",
    "                    if a[i][col] * a[k][col] < 0 :\n",
    "                        tb = -tb\n",
    "                    for j in range(col,var+1):\n",
    "                        a[i][j] = a[i][j]*ta - a[k][j]*tb\n",
    "            col = col + 1\n",
    "\n",
    "    #different from the C++ code, in C++ code the for loop will add k finally,but python need to add manually.\n",
    "    k = k + 1\n",
    "\n",
    "    #this circumstance that coefficient is zero but the result is nonzero\n",
    "    for i in range(k,equ):\n",
    "        if a[i][col] != 0:\n",
    "            return -1\n",
    "\n",
    "    #this circumstance that we have more valuable that not unique\n",
    "    if k < var:\n",
    "        return var - k\n",
    "\n",
    "    #this circumstance that we have unique solution\n",
    "    for i in range(var-1,-1,-1):\n",
    "        temp = a[i][var]\n",
    "        # we can get the solution from the bottom to up\n",
    "        for j in range(i+1,var):\n",
    "            if a[i][j]!=0:\n",
    "                temp = temp - a[i][j]*x[var-j-1]\n",
    "        if temp % a[i][i] !=0:\n",
    "            return -2\n",
    "        x.append(temp / a[i][i])\n",
    "    return 0\n",
    "\n",
    "if __name__ == '__main__':\n",
    "    a = [[1,2,3,-6],\n",
    "         [3,2,2,7],\n",
    "         [4,1,1,6]]\n",
    "    print(Gauss(a,3,3))\n",
    "    for i in range(len(x)):\n",
    "        print(x[len(x)-i-1])\n",
    "\n",
    "————————————————\n",
    "版权声明：本文为CSDN博主「bengepai」的原创文章，遵循CC 4.0 BY-SA版权协议，转载请附上原文出处链接及本声明。\n",
    "原文链接：https://blog.csdn.net/bengepai/article/details/82020889"
   ]
  },
  {
   "cell_type": "code",
   "execution_count": 15,
   "metadata": {},
   "outputs": [
    {
     "data": {
      "text/plain": [
       "[-17.24580854515954, 53.22198572899038, 0.601336380606779]"
      ]
     },
     "execution_count": 15,
     "metadata": {},
     "output_type": "execute_result"
    }
   ],
   "source": [
    "Gauss(a,b)"
   ]
  },
  {
   "cell_type": "code",
   "execution_count": null,
   "metadata": {},
   "outputs": [],
   "source": []
  }
 ],
 "metadata": {
  "interpreter": {
   "hash": "271520d9f8876fa56087d92bb138cc619c4a687ce6e1311621c69b25dedf1981"
  },
  "kernelspec": {
   "display_name": "Python 3.8.5 ('base')",
   "language": "python",
   "name": "python3"
  },
  "language_info": {
   "codemirror_mode": {
    "name": "ipython",
    "version": 3
   },
   "file_extension": ".py",
   "mimetype": "text/x-python",
   "name": "python",
   "nbconvert_exporter": "python",
   "pygments_lexer": "ipython3",
   "version": "3.8.5"
  },
  "orig_nbformat": 4
 },
 "nbformat": 4,
 "nbformat_minor": 2
}
