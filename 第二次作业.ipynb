{
 "cells": [
  {
   "cell_type": "code",
   "execution_count": 1,
   "metadata": {},
   "outputs": [],
   "source": [
    "import math\n",
    "import numpy as np\n",
    "from scipy.misc import derivative"
   ]
  },
  {
   "cell_type": "markdown",
   "metadata": {},
   "source": [
    "利用scipy中的derivative 函数进行求导\n",
    "2.6 x+sinx-1 = 0\n",
    "利用Aitken加速法求解方程在x0 = 1/2附近的唯一根\n",
    "（利用含l的Aitken加速法"
   ]
  },
  {
   "cell_type": "markdown",
   "metadata": {},
   "source": [
    "l为函数在该点附近的导数，要求函数在该点的导数变化值较小\n",
    "\n",
    "即要求函数的二阶导的绝对值较小\n",
    "\n",
    "故而，我们首先要验证二阶导的绝对值较小\n",
    "\n",
    "然后求出该点的导数\n",
    "\n",
    "利用公式：\n",
    "$$\n",
    "x_{k+1} = (1-l)^{-1}[f(x_k) - l \\ast x_k]\n",
    "$$\n",
    "\n",
    "由于题目中 __a__ 与 __l__ 符号相反，故而`a=-l`"
   ]
  },
  {
   "cell_type": "code",
   "execution_count": 2,
   "metadata": {},
   "outputs": [],
   "source": [
    "def func1(x):\n",
    "    return 1-math.sin(x)"
   ]
  },
  {
   "cell_type": "code",
   "execution_count": 3,
   "metadata": {},
   "outputs": [
    {
     "name": "stdout",
     "output_type": "stream",
     "text": [
      "0.479425538604203\n",
      "-0.8775825618903728\n"
     ]
    }
   ],
   "source": [
    "# 手算可得，二阶导为sinx 一阶导为-cosx\n",
    "print(math.sin(1/2))\n",
    "print(-math.cos(1/2))"
   ]
  },
  {
   "cell_type": "code",
   "execution_count": 4,
   "metadata": {},
   "outputs": [
    {
     "name": "stdout",
     "output_type": "stream",
     "text": [
      "-0.8775825618423383\n"
     ]
    }
   ],
   "source": [
    "l = derivative(func1,0.5,1e-6,1)\n",
    "print(l)\n",
    "# 可得结果在误差范围内"
   ]
  },
  {
   "cell_type": "code",
   "execution_count": 5,
   "metadata": {},
   "outputs": [],
   "source": [
    "def Aitken_l(x0, func,tol):\n",
    "    l = derivative(func, x0, 1e-8, 1)\n",
    "    print(\"l = \",l)\n",
    "    x1 = (func(x0) - l*x0)/(1-l)\n",
    "    print(\"第一步迭代=\",x1)\n",
    "    k = 0\n",
    "    # 先进行两步迭代缩小范围\n",
    "    while abs(x1- x0) > tol:\n",
    "        x2 = (func(x1) - l*x1)/(1-l)\n",
    "        # 存储结果方便计算前后误差\n",
    "        x0 = x1\n",
    "        x1 = x2\n",
    "        k+=1\n",
    "        # 每四次更新一次导数值\n",
    "        if k % 4 == 0:\n",
    "            l = derivative(func, x2, 1e-8, 1)\n",
    "    print(\"总迭代次数：\",k)\n",
    "    return x2"
   ]
  },
  {
   "cell_type": "code",
   "execution_count": 6,
   "metadata": {},
   "outputs": [
    {
     "data": {
      "text/plain": [
       "0.5109578511907739"
      ]
     },
     "execution_count": 6,
     "metadata": {},
     "output_type": "execute_result"
    }
   ],
   "source": [
    "# 手算值\n",
    "((0.8776*0.5)-math.sin(0.5)+1)/(1+0.8776)"
   ]
  },
  {
   "cell_type": "code",
   "execution_count": 7,
   "metadata": {},
   "outputs": [
    {
     "name": "stdout",
     "output_type": "stream",
     "text": [
      "l =  -0.8775825621754052\n",
      "第一步迭代= 0.5109579529605127\n",
      "总迭代次数： 1\n"
     ]
    },
    {
     "data": {
      "text/plain": [
       "0.5109733856205185"
      ]
     },
     "execution_count": 7,
     "metadata": {},
     "output_type": "execute_result"
    }
   ],
   "source": [
    "# \n",
    "Aitken_l(1/2, func1, 1/2 * 1e-3)"
   ]
  },
  {
   "cell_type": "code",
   "execution_count": 8,
   "metadata": {},
   "outputs": [
    {
     "data": {
      "text/plain": [
       "9.999999999998899e-05"
      ]
     },
     "execution_count": 8,
     "metadata": {},
     "output_type": "execute_result"
    }
   ],
   "source": [
    "0.5110-0.5109"
   ]
  },
  {
   "cell_type": "markdown",
   "metadata": {},
   "source": [
    "利用书上例题验证Aitken加速迭代法的正确性"
   ]
  },
  {
   "cell_type": "code",
   "execution_count": 9,
   "metadata": {},
   "outputs": [
    {
     "name": "stdout",
     "output_type": "stream",
     "text": [
      "l =  0.2099868390281756\n",
      "第一步迭代= 1.3290085061053094\n",
      "总迭代次数： 5\n"
     ]
    },
    {
     "data": {
      "text/plain": [
       "1.3247179572447458"
      ]
     },
     "execution_count": 9,
     "metadata": {},
     "output_type": "execute_result"
    }
   ],
   "source": [
    "Aitken_l(1, lambda x: (x+1)**(1/3), 1e-8)"
   ]
  },
  {
   "cell_type": "code",
   "execution_count": 10,
   "metadata": {},
   "outputs": [
    {
     "data": {
      "text/plain": [
       "-5.240252676230739e-14"
      ]
     },
     "execution_count": 10,
     "metadata": {},
     "output_type": "execute_result"
    }
   ],
   "source": [
    "# 书上为 1.324717957244746\n",
    "1.324717957244746 - 1.3247179572447985"
   ]
  },
  {
   "cell_type": "markdown",
   "metadata": {},
   "source": [
    "# 2.7"
   ]
  },
  {
   "cell_type": "markdown",
   "metadata": {},
   "source": [
    "$\\vec{a}$  向量\n",
    "\n",
    "$\\overline{a}$ 平均值\n",
    "\n",
    "$\\widehat{a}$ (线性回归，直线方程) y尖\n",
    "\n",
    "$\\widetilde{a}$ 颚化符号  等价无穷小\n",
    "\n",
    "$\\dot{a}$   一阶导数\n",
    "\n",
    "$\\ddot{a}$  二阶导数"
   ]
  },
  {
   "cell_type": "markdown",
   "metadata": {},
   "source": [
    "不带`l`的Aitken加速迭代法可由带l的Aitken加速迭代法得到\n",
    "\n",
    "其关键是近似求解`l`,即$\\phi{(xk)}$, 每次利用新计算出来的近似的$\\phi{(xk)}$去替换`l`\n",
    "\n",
    "$$\n",
    "\\widetilde{x}_{k+1} = \\phi{(x_k)}, \\widehat{x}_{k+1} = \\phi{(\\widetilde{x}_{k+1})}\n",
    "$$\n",
    "这里的代换是利用$x_k$去求得近似的\\phi{(\\widetilde{x}_{k+1})}，为的是得到两个有关$\\phi()$这个函数的两个等式\n",
    "\n",
    "从而通过等式，利用Tayler展开去近似求解`l`"
   ]
  },
  {
   "cell_type": "markdown",
   "metadata": {},
   "source": [
    "则， 由上述式子，利用泰勒展开可得\n",
    "\n",
    "$$\n",
    "x^* - \\widetilde{x}_{k+1} \\approx l(x^* - x_k), x^* - \\widehat{x}_{k+1} \\approx l(x^* - \\widetilde{x}_{k+1})\n",
    "$$\n",
    "从而有：\n",
    "$$\n",
    " l = \\frac{x^* - \\widetilde{x}_{k+1}}{(x^* - x_k)}\n",
    " \\qquad\n",
    " x^* = \\widehat{x}_{k+1} + \\frac{x^* - \\widetilde{x}_{k+1}^2}{x^* - x_k}\n",
    "$$\n",
    "解得：\n",
    "$$\n",
    "    x^* \\approx \\widehat{x}_{k+1} - \\frac{(\\widehat{x}_{k+1} - \\widetilde{x}_{k+1})^2}{\\widehat{x}_{k+1} - 2*\\widetilde{x}_{k+1} + x_k}\n",
    "$$\n",
    "由于$x^* \\approx x_{k+1}$\n",
    "则：\n",
    "$$\n",
    " x_{k+1} = \\widehat{x}_{k+1} - \\frac{(\\widehat{x}_{k+1} - \\widetilde{x}_{k+1})^2}{\\widehat{x}_{k+1} - 2*\\widetilde{x}_{k+1} + x_k}\n",
    "$$\n",
    "将其中的$\\widehat{x}_{k+1}$与$\\widetilde{x}_{k+1}$ 替换为 $\\phi{(\\phi{(x_k))}}$ 与$\\phi{(x_k)}$\n",
    "$$\n",
    " x_{k+1} = \\phi{(\\phi{(x_k))}} - \\frac{(\\phi{(\\phi{(x_k))}} - \\phi{(x_k)})^2}{\\phi{(\\phi{(x_k))}} - 2*\\phi{(x_k)} + x_k}\n",
    "$$"
   ]
  },
  {
   "cell_type": "markdown",
   "metadata": {},
   "source": [
    "在2.7中，将“$\\phi(x)$替换为$x - f(x)$代入上述公式，可得：\n",
    "$$\n",
    "x_{k+1} = x_k - \\frac{f(x_k)^2}{f(x_k)-f(x_k - f(x_k))}\n",
    "$$\n",
    "即Steffsen加速迭代法的公式\n",
    "可以看见，对于求解0点问题，Steffsen方法本质上是Aitken加速迭代法的一种特殊情况\n",
    "\n",
    "这里也可以看出，Aitken加速迭代法其实和Steffsen方法做了同样的工作，即利用两点的弦来近似曲线的曲度，从而形成快速收敛的格式，两者在求解方程时所用到的思想其实是相近的！"
   ]
  },
  {
   "cell_type": "markdown",
   "metadata": {},
   "source": [
    "# 2.8"
   ]
  },
  {
   "cell_type": "markdown",
   "metadata": {},
   "source": [
    "_非线性方程组的Picard迭代法_"
   ]
  },
  {
   "cell_type": "markdown",
   "metadata": {},
   "source": [
    "证明非线性方程组全局收敛：\n",
    "\n",
    "1. $\\Phi(x)$收敛于$D_0$\n",
    "2. |$\\Phi^{'}(x)$| < 0"
   ]
  },
  {
   "cell_type": "code",
   "execution_count": 11,
   "metadata": {},
   "outputs": [],
   "source": [
    "def d_Picard():\n",
    "    x0 = 0\n",
    "    y0 = 0\n",
    "    k = 20\n",
    "    while k>0:\n",
    "        x1 = 0.5*(math.cos(x0)-math.sin(y0))\n",
    "        y1 = 0.5*(math.sin(x0)+math.cos(y0))\n",
    "        print(x1,y1)\n",
    "        x0,y0 = x1,y1\n",
    "        k-=1"
   ]
  },
  {
   "cell_type": "code",
   "execution_count": 12,
   "metadata": {},
   "outputs": [
    {
     "name": "stdout",
     "output_type": "stream",
     "text": [
      "0.5 0.5\n",
      "0.19907851164308488 0.6785040502472879\n",
      "0.17631006101217495 0.4881393088753382\n",
      "0.2577571380790325 0.5293025298940379\n",
      "0.2310163535007379 0.5590359414153968\n",
      "0.22153251938261248 0.5383669033457366\n",
      "0.2314136384170124 0.5391360594927063\n",
      "0.22997417692728994 0.5437531258150355\n",
      "0.22816041505742857 0.5418627042085488\n",
      "0.22917568747512318 0.5414677537104109\n",
      "0.22922982320720547 0.5420639867557483\n",
      "0.22896824728752807 0.5419366230181328\n",
      "0.22905250414842748 0.5418421026978179\n",
      "0.22908342988060904 0.5419075059114628\n",
      "0.22905190184703983 0.541905699234766\n",
      "0.22905625529092577 0.5418908129125337\n",
      "0.22906213784042395 0.5418967716907077\n",
      "0.2290589174481069 0.541898099492772\n",
      "0.22905871427858654 0.5418961889394412\n",
      "0.2290595557603738 0.5418965827036752\n"
     ]
    }
   ],
   "source": [
    "d_Picard()"
   ]
  },
  {
   "cell_type": "code",
   "execution_count": 13,
   "metadata": {},
   "outputs": [
    {
     "data": {
      "text/plain": [
       "0.8567321849632784"
      ]
     },
     "execution_count": 13,
     "metadata": {},
     "output_type": "execute_result"
    }
   ],
   "source": [
    "math.cos(0.54189629760355)"
   ]
  },
  {
   "cell_type": "markdown",
   "metadata": {},
   "source": [
    "Picard 迭代法对应的函数：function2_8"
   ]
  },
  {
   "cell_type": "code",
   "execution_count": 14,
   "metadata": {},
   "outputs": [],
   "source": [
    "def function2_8(x):\n",
    "    return np.array([[(math.cos(x[0])-math.sin(x[1]))*0.5], [(math.sin(x[0])+math.cos(x[1]))*0.5]])"
   ]
  },
  {
   "cell_type": "code",
   "execution_count": 15,
   "metadata": {},
   "outputs": [
    {
     "data": {
      "text/plain": [
       "array([[0.17631006],\n",
       "       [0.48813931]])"
      ]
     },
     "execution_count": 15,
     "metadata": {},
     "output_type": "execute_result"
    }
   ],
   "source": [
    "function2_8(np.array([[0.19907851],[0.67850405]]))"
   ]
  },
  {
   "cell_type": "markdown",
   "metadata": {},
   "source": [
    "Newton法迭代公式"
   ]
  },
  {
   "cell_type": "code",
   "execution_count": 16,
   "metadata": {},
   "outputs": [],
   "source": [
    "def func_nt_2_8(v):\n",
    "    v = v.flatten()\n",
    "    print(\"v shape is:\",v.shape)\n",
    "    x, y = v[0], v[1]\n",
    "    return np.array([  [(math.cos(x)-math.sin(y))*0.5- x] , [(math.sin(x)+math.cos(y))*0.5 - y]  ])"
   ]
  },
  {
   "cell_type": "code",
   "execution_count": 17,
   "metadata": {},
   "outputs": [
    {
     "name": "stdout",
     "output_type": "stream",
     "text": [
      "[[0]\n",
      " [0]]\n",
      "v shape is: (2,)\n",
      "[[0.5]\n",
      " [0.5]]\n"
     ]
    }
   ],
   "source": [
    "# func_nt_2_8([0,0])\n",
    "print(np.array([[0],[0]]))\n",
    "print(func_nt_2_8(np.array([[0],[0]])))"
   ]
  },
  {
   "cell_type": "markdown",
   "metadata": {},
   "source": [
    "### 手动运算过程"
   ]
  },
  {
   "cell_type": "markdown",
   "metadata": {},
   "source": [
    "### 求Jacobi矩阵的函数实现"
   ]
  },
  {
   "cell_type": "code",
   "execution_count": 19,
   "metadata": {},
   "outputs": [],
   "source": [
    "def cal_Jacobi(x, func, eps):\n",
    "    # n 表示向量的长度\n",
    "    n = x.shape[0]\n",
    "    jacobi = np.zeros((n,n))\n",
    "    \n",
    "    jacobi[0][1] = 0\n",
    "    for i in range(n):\n",
    "        for j in range(n):\n",
    "            # 需要指定数据类型\n",
    "            temp1,temp2 = np.array(x,dtype=float),np.array(x,dtype=float)\n",
    "            # 需要进行求导的元素加上一个极小量\n",
    "            temp1[j][0] += eps\n",
    "            temp2[j][0] -= eps\n",
    "            t = (func(temp1)[i][0]-func(temp2)[i][0])/(2*eps)\n",
    "            # i， j位置上的元素是所得向量的[i]号方程结果与eps的除\n",
    "            jacobi[i][j] = t\n",
    "    return jacobi"
   ]
  },
  {
   "cell_type": "markdown",
   "metadata": {},
   "source": [
    "测试代码"
   ]
  },
  {
   "cell_type": "code",
   "execution_count": 20,
   "metadata": {},
   "outputs": [
    {
     "data": {
      "text/plain": [
       "array([[ 0. , -0.5],\n",
       "       [ 0.5,  0. ]])"
      ]
     },
     "execution_count": 20,
     "metadata": {},
     "output_type": "execute_result"
    }
   ],
   "source": [
    "# 测试一下：\n",
    "cal_Jacobi(np.array([[0],[0]]),function2_8,1e-8)"
   ]
  },
  {
   "cell_type": "code",
   "execution_count": 21,
   "metadata": {},
   "outputs": [
    {
     "data": {
      "text/plain": [
       "array([[-0.23971277, -0.43879128],\n",
       "       [ 0.43879128, -0.23971277]])"
      ]
     },
     "execution_count": 21,
     "metadata": {},
     "output_type": "execute_result"
    }
   ],
   "source": [
    "cal_Jacobi(np.array([[0.5],[0.5]]),function2_8,1e-8)"
   ]
  },
  {
   "cell_type": "code",
   "execution_count": 22,
   "metadata": {},
   "outputs": [
    {
     "name": "stdout",
     "output_type": "stream",
     "text": [
      "-0.2397127693021015\n",
      "-0.4387912809451864\n"
     ]
    }
   ],
   "source": [
    "print(-math.sin(0.5)*0.5)\n",
    "print(-0.5*math.cos(0.5))"
   ]
  },
  {
   "cell_type": "markdown",
   "metadata": {},
   "source": [
    "完美符合了手动求出来的Jacobi矩阵!"
   ]
  },
  {
   "cell_type": "code",
   "execution_count": 23,
   "metadata": {},
   "outputs": [
    {
     "name": "stdout",
     "output_type": "stream",
     "text": [
      "[[-0.23971277 -0.43879128]\n",
      " [ 0.43879128 -0.23971277]]\n",
      "[[-0.95885108  1.75516511]\n",
      " [-1.75516511 -0.95885108]]\n",
      "[[ 0.68770999]\n",
      " [-0.77750617]]\n",
      "[[ 0.99999999]\n",
      " [-1.        ]]\n",
      "[[0.19907851]\n",
      " [0.67850405]]\n",
      "[[-0.49999999]\n",
      " [ 1.5       ]]\n"
     ]
    }
   ],
   "source": [
    "temp = cal_Jacobi(np.array([[0.5],[0.5]]),function2_8,1e-8)\n",
    "print(temp)\n",
    "temp = np.matrix(temp)\n",
    "print(temp.I)\n",
    "print(temp.I.dot(np.array([[0.17631006101217495],[0.4881393088753382]])))\n",
    "print(temp.I.dot(function2_8(np.array([[0.5],[0.5]]))))\n",
    "print(function2_8(np.array([[0.5],[0.5]])))\n",
    "print(np.array([[0.5],[0.5]]) - np.matrix(temp).I.dot([[0.19907851],[0.67850405]]))"
   ]
  },
  {
   "cell_type": "code",
   "execution_count": 24,
   "metadata": {},
   "outputs": [
    {
     "name": "stdout",
     "output_type": "stream",
     "text": [
      "v shape is: (2,)\n",
      "v shape is: (2,)\n",
      "v shape is: (2,)\n",
      "v shape is: (2,)\n",
      "v shape is: (2,)\n",
      "v shape is: (2,)\n",
      "v shape is: (2,)\n",
      "v shape is: (2,)\n"
     ]
    },
    {
     "data": {
      "text/plain": [
       "array([[-1. , -0.5],\n",
       "       [ 0.5, -1. ]])"
      ]
     },
     "execution_count": 24,
     "metadata": {},
     "output_type": "execute_result"
    }
   ],
   "source": [
    "cal_Jacobi(np.array([[0],[0]]),func_nt_2_8,1e-8)"
   ]
  },
  {
   "cell_type": "code",
   "execution_count": 26,
   "metadata": {},
   "outputs": [],
   "source": [
    "# 牛顿迭代法的迭代格式\n",
    "def func_nt_2_8(v):\n",
    "    x = float(v[0][0])\n",
    "    y = float(v[1][0])\n",
    "    return np.array([[(math.cos(x)-math.sin(y))*0.5- x] , [(math.sin(x)+math.cos(y))*0.5 - y]])"
   ]
  },
  {
   "cell_type": "code",
   "execution_count": 27,
   "metadata": {},
   "outputs": [
    {
     "name": "stdout",
     "output_type": "stream",
     "text": [
      "0\n"
     ]
    }
   ],
   "source": [
    "tset = np.array([[0],[0]])\n",
    "test = tset\n",
    "print(test[0][0])"
   ]
  },
  {
   "cell_type": "code",
   "execution_count": 28,
   "metadata": {},
   "outputs": [
    {
     "name": "stdout",
     "output_type": "stream",
     "text": [
      "[[ 0.00025526]\n",
      " [-0.00073779]]\n"
     ]
    }
   ],
   "source": [
    "func_nt_2_8(np.array([[0],[0]]))\n",
    "print(func_nt_2_8(np.array([[0.22866336],[0.54232995]])))"
   ]
  },
  {
   "cell_type": "code",
   "execution_count": 29,
   "metadata": {},
   "outputs": [
    {
     "name": "stdout",
     "output_type": "stream",
     "text": [
      "[[ 0.00025526]\n",
      " [-0.00073779]]\n"
     ]
    }
   ],
   "source": [
    "print(func_nt_2_8(np.array([[0.22866336],[0.54232995]])))"
   ]
  },
  {
   "cell_type": "code",
   "execution_count": 30,
   "metadata": {},
   "outputs": [],
   "source": [
    "def Newton_2_8(x0,tol):\n",
    "    x0 = np.array([[0.2],[0.6]])\n",
    "    k = 10\n",
    "    # k: iteration times\n",
    "    while k > 0:\n",
    "        #  计算Jacobi矩阵的逆矩阵\n",
    "        temp = np.matrix(cal_Jacobi(x0,func_nt_2_8,1e-8)).I\n",
    "        # 计算迭代矩阵\n",
    "        x1 = x0 -  temp.dot(func_nt_2_8(x0))\n",
    "        x0 = x1\n",
    "        k -= 1\n",
    "        # lm *= 0.5\n",
    "        print(\"Thisis x1:\",x1)\n",
    "    return x1"
   ]
  },
  {
   "cell_type": "code",
   "execution_count": 31,
   "metadata": {},
   "outputs": [
    {
     "name": "stdout",
     "output_type": "stream",
     "text": [
      "[[0.2]\n",
      " [0.6]]\n",
      "x0is: [[0.2]\n",
      " [0.6]]\n",
      "Matrix shapew is: (2, 2)\n",
      "function result = [[ 0.00771205]\n",
      " [-0.08799753]]\n",
      "Thisis x1: [[0.22866336]\n",
      " [0.54232995]]\n",
      "x0is: [[0.22866336]\n",
      " [0.54232995]]\n",
      "Matrix shapew is: (2, 2)\n",
      "function result = [[ 0.00025526]\n",
      " [-0.00073779]]\n",
      "Thisis x1: [[0.22905927]\n",
      " [0.54189675]]\n",
      "x0is: [[0.22905927]\n",
      " [0.54189675]]\n",
      "Matrix shapew is: (2, 2)\n",
      "function result = [[-1.3955740e-08]\n",
      " [-4.9076135e-08]]\n",
      "Thisis x1: [[0.22905927]\n",
      " [0.54189672]]\n",
      "x0is: [[0.22905927]\n",
      " [0.54189672]]\n",
      "Matrix shapew is: (2, 2)\n",
      "function result = [[ 5.55111512e-17]\n",
      " [-6.66133815e-16]]\n",
      "Thisis x1: [[0.22905927]\n",
      " [0.54189672]]\n",
      "x0is: [[0.22905927]\n",
      " [0.54189672]]\n",
      "Matrix shapew is: (2, 2)\n",
      "function result = [[-5.55111512e-17]\n",
      " [ 0.00000000e+00]]\n",
      "Thisis x1: [[0.22905927]\n",
      " [0.54189672]]\n",
      "x0is: [[0.22905927]\n",
      " [0.54189672]]\n",
      "Matrix shapew is: (2, 2)\n",
      "function result = [[0.]\n",
      " [0.]]\n",
      "Thisis x1: [[0.22905927]\n",
      " [0.54189672]]\n",
      "x0is: [[0.22905927]\n",
      " [0.54189672]]\n",
      "Matrix shapew is: (2, 2)\n",
      "function result = [[0.]\n",
      " [0.]]\n",
      "Thisis x1: [[0.22905927]\n",
      " [0.54189672]]\n",
      "x0is: [[0.22905927]\n",
      " [0.54189672]]\n",
      "Matrix shapew is: (2, 2)\n",
      "function result = [[0.]\n",
      " [0.]]\n",
      "Thisis x1: [[0.22905927]\n",
      " [0.54189672]]\n",
      "x0is: [[0.22905927]\n",
      " [0.54189672]]\n",
      "Matrix shapew is: (2, 2)\n",
      "function result = [[0.]\n",
      " [0.]]\n",
      "Thisis x1: [[0.22905927]\n",
      " [0.54189672]]\n",
      "x0is: [[0.22905927]\n",
      " [0.54189672]]\n",
      "Matrix shapew is: (2, 2)\n",
      "function result = [[0.]\n",
      " [0.]]\n",
      "Thisis x1: [[0.22905927]\n",
      " [0.54189672]]\n"
     ]
    },
    {
     "data": {
      "text/plain": [
       "matrix([[0.22905927],\n",
       "        [0.54189672]])"
      ]
     },
     "execution_count": 31,
     "metadata": {},
     "output_type": "execute_result"
    }
   ],
   "source": [
    "Newton_2_8(0,0)"
   ]
  },
  {
   "cell_type": "markdown",
   "metadata": {},
   "source": [
    "最终结果与"
   ]
  },
  {
   "cell_type": "code",
   "execution_count": 124,
   "metadata": {},
   "outputs": [
    {
     "data": {
      "text/plain": [
       "array([[0.5],\n",
       "       [0.5]])"
      ]
     },
     "execution_count": 124,
     "metadata": {},
     "output_type": "execute_result"
    }
   ],
   "source": [
    "function2_8([0,0])"
   ]
  }
 ],
 "metadata": {
  "interpreter": {
   "hash": "c58fe46fe3be204fb772683c9d5f0aff0e14dc909e2037d292afe35e8ed6e976"
  },
  "kernelspec": {
   "display_name": "Python 3.8.8 ('kite')",
   "language": "python",
   "name": "python3"
  },
  "language_info": {
   "codemirror_mode": {
    "name": "ipython",
    "version": 3
   },
   "file_extension": ".py",
   "mimetype": "text/x-python",
   "name": "python",
   "nbconvert_exporter": "python",
   "pygments_lexer": "ipython3",
   "version": "3.8.5"
  },
  "orig_nbformat": 4
 },
 "nbformat": 4,
 "nbformat_minor": 2
}
