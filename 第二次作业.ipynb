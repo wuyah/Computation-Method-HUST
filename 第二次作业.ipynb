{
 "cells": [
  {
   "cell_type": "code",
   "execution_count": 2,
   "metadata": {},
   "outputs": [],
   "source": [
    "import math\n",
    "import numpy as np\n",
    "from scipy.misc import derivative"
   ]
  },
  {
   "cell_type": "markdown",
   "metadata": {},
   "source": [
    "利用scipy中的derivative 函数进行求导\n",
    "2.6 x+sinx-1 = 0\n",
    "利用Aitken加速法求解方程在x0 = 1/2附近的唯一根\n",
    "（利用含l的Aitken加速法"
   ]
  },
  {
   "cell_type": "markdown",
   "metadata": {},
   "source": [
    "l为函数在该点附近的导数，要求函数在该点的导数变化值较小\n",
    "\n",
    "即要求函数的二阶导的绝对值较小\n",
    "\n",
    "故而，我们首先要验证二阶导的绝对值较小\n",
    "\n",
    "然后求出该点的导数\n",
    "\n",
    "利用公式：\n",
    "$$\n",
    "x_{k+1} = (1-l)^{-1}[f(x_k) - l \\ast x_k]\n",
    "$$\n",
    "\n",
    "由于题目中 __a__ 与 __l__ 符号相反，故而`a=-l`"
   ]
  },
  {
   "cell_type": "code",
   "execution_count": 11,
   "metadata": {},
   "outputs": [],
   "source": [
    "def func1(x):\n",
    "    return 1-math.sin(x)"
   ]
  },
  {
   "cell_type": "code",
   "execution_count": 23,
   "metadata": {},
   "outputs": [
    {
     "name": "stdout",
     "output_type": "stream",
     "text": [
      "0.479425538604203\n",
      "-0.8775825618903728\n"
     ]
    }
   ],
   "source": [
    "# 手算可得，二阶导为sinx 一阶导为-cosx\n",
    "print(math.sin(1/2))\n",
    "print(-math.cos(1/2))"
   ]
  },
  {
   "cell_type": "code",
   "execution_count": 22,
   "metadata": {},
   "outputs": [
    {
     "name": "stdout",
     "output_type": "stream",
     "text": [
      "-0.8775825618423383\n"
     ]
    }
   ],
   "source": [
    "l = derivative(func1,0.5,1e-6,1)\n",
    "print(l)\n",
    "# 可得结果在误差范围内"
   ]
  },
  {
   "cell_type": "code",
   "execution_count": 53,
   "metadata": {},
   "outputs": [],
   "source": [
    "def Aitken_l(x0, func,tol):\n",
    "    l = derivative(func, x0, 1e-8, 1)\n",
    "    print(\"l = \",l)\n",
    "    x1 = (func(x0) - l*x0)/(1-l)\n",
    "    print(\"第一步迭代=\",x1)\n",
    "    k = 0\n",
    "    # 先进行两步迭代缩小范围\n",
    "    while abs(x1- x0) > tol:\n",
    "        x2 = (func(x1) - l*x1)/(1-l)\n",
    "        # 存储结果方便计算前后误差\n",
    "        x0 = x1\n",
    "        x1 = x2\n",
    "        k+=1\n",
    "        # 每四次更新一次导数值\n",
    "        if k % 4 == 0:\n",
    "            l = derivative(func, x2, 1e-8, 1)\n",
    "    print(\"总迭代次数：\",k)\n",
    "    return x2"
   ]
  },
  {
   "cell_type": "code",
   "execution_count": 48,
   "metadata": {},
   "outputs": [
    {
     "data": {
      "text/plain": [
       "0.5109578511907739"
      ]
     },
     "execution_count": 48,
     "metadata": {},
     "output_type": "execute_result"
    }
   ],
   "source": [
    "# 手算值\n",
    "((0.8776*0.5)-math.sin(0.5)+1)/(1+0.8776)"
   ]
  },
  {
   "cell_type": "code",
   "execution_count": 51,
   "metadata": {},
   "outputs": [
    {
     "name": "stdout",
     "output_type": "stream",
     "text": [
      "-0.8775825621754052\n",
      "0.5109579529605127\n",
      "1\n"
     ]
    },
    {
     "data": {
      "text/plain": [
       "0.5109733856205185"
      ]
     },
     "execution_count": 51,
     "metadata": {},
     "output_type": "execute_result"
    }
   ],
   "source": [
    "# \n",
    "Aitken_l(1/2, func1, 1/2 * 1e-3)"
   ]
  },
  {
   "cell_type": "code",
   "execution_count": 50,
   "metadata": {},
   "outputs": [
    {
     "data": {
      "text/plain": [
       "9.999999999998899e-05"
      ]
     },
     "execution_count": 50,
     "metadata": {},
     "output_type": "execute_result"
    }
   ],
   "source": [
    "0.5110-0.5109"
   ]
  },
  {
   "cell_type": "markdown",
   "metadata": {},
   "source": [
    "利用书上例题验证Aitken加速迭代法的正确性"
   ]
  },
  {
   "cell_type": "code",
   "execution_count": 33,
   "metadata": {},
   "outputs": [
    {
     "name": "stdout",
     "output_type": "stream",
     "text": [
      "4\n"
     ]
    },
    {
     "data": {
      "text/plain": [
       "1.3247179572447985"
      ]
     },
     "execution_count": 33,
     "metadata": {},
     "output_type": "execute_result"
    }
   ],
   "source": [
    "Aitken_l(1, lambda x: (x+1)**(1/3), 1e-8)"
   ]
  },
  {
   "cell_type": "code",
   "execution_count": 34,
   "metadata": {},
   "outputs": [
    {
     "data": {
      "text/plain": [
       "-5.240252676230739e-14"
      ]
     },
     "execution_count": 34,
     "metadata": {},
     "output_type": "execute_result"
    }
   ],
   "source": [
    "# 书上为 1.324717957244746\n",
    "1.324717957244746 - 1.3247179572447985"
   ]
  },
  {
   "cell_type": "markdown",
   "metadata": {},
   "source": [
    "# 2.7"
   ]
  },
  {
   "cell_type": "markdown",
   "metadata": {},
   "source": [
    "$\\vec{a}$  向量\n",
    "\n",
    "$\\overline{a}$ 平均值\n",
    "\n",
    "$\\widehat{a}$ (线性回归，直线方程) y尖\n",
    "\n",
    "$\\widetilde{a}$ 颚化符号  等价无穷小\n",
    "\n",
    "$\\dot{a}$   一阶导数\n",
    "\n",
    "$\\ddot{a}$  二阶导数"
   ]
  },
  {
   "cell_type": "markdown",
   "metadata": {},
   "source": [
    "不带`l`的Aitken加速迭代法可由带l的Aitken加速迭代法得到\n",
    "\n",
    "其关键是近似求解`l`,即$\\phi{(xk)}$, 每次利用新计算出来的近似的$\\phi{(xk)}$去替换`l`\n",
    "\n",
    "$$\n",
    "\\widetilde{x}_{k+1} = \\phi{(x_k)}, \\widehat{x}_{k+1} = \\phi{(\\widetilde{x}_{k+1})}\n",
    "$$\n",
    "这里的代换是利用$x_k$去求得近似的\\phi{(\\widetilde{x}_{k+1})}，为的是得到两个有关$\\phi()$这个函数的两个等式\n",
    "\n",
    "从而通过等式，利用Tayler展开去近似求解`l`"
   ]
  },
  {
   "cell_type": "markdown",
   "metadata": {},
   "source": [
    "则， 由上述式子，利用泰勒展开可得\n",
    "\n",
    "$$\n",
    "x^* - \\widetilde{x}_{k+1} \\approx l(x^* - x_k), x^* - \\widehat{x}_{k+1} \\approx l(x^* - \\widetilde{x}_{k+1})\n",
    "$$\n",
    "从而有：\n",
    "$$\n",
    " l = \\frac{x^* - \\widetilde{x}_{k+1}}{(x^* - x_k)}\n",
    " \\qquad\n",
    " x^* = \\widehat{x}_{k+1} + \\frac{x^* - \\widetilde{x}_{k+1}^2}{x^* - x_k}\n",
    "$$\n",
    "解得：\n",
    "$$\n",
    "    x^* \\approx \\widehat{x}_{k+1} - \\frac{(\\widehat{x}_{k+1} - \\widetilde{x}_{k+1})^2}{\\widehat{x}_{k+1} - 2*\\widetilde{x}_{k+1} + x_k}\n",
    "$$\n",
    "由于$x^* \\approx x_{k+1}$\n",
    "则：\n",
    "$$\n",
    " x_{k+1} = \\widehat{x}_{k+1} - \\frac{(\\widehat{x}_{k+1} - \\widetilde{x}_{k+1})^2}{\\widehat{x}_{k+1} - 2*\\widetilde{x}_{k+1} + x_k}\n",
    "$$\n",
    "将其中的$\\widehat{x}_{k+1}$与$\\widetilde{x}_{k+1}$ 替换为 $\\phi{(\\phi{(x_k))}}$ 与$\\phi{(x_k)}$\n",
    "$$\n",
    " x_{k+1} = \\phi{(\\phi{(x_k))}} - \\frac{(\\phi{(\\phi{(x_k))}} - \\phi{(x_k)})^2}{\\phi{(\\phi{(x_k))}} - 2*\\phi{(x_k)} + x_k}\n",
    "$$"
   ]
  },
  {
   "cell_type": "markdown",
   "metadata": {},
   "source": [
    "在2.7中，将“$\\phi(x)$替换为$x - f(x)$代入上述公式，可得：\n",
    "$$\n",
    "x_{k+1} = x_k - \\frac{f(x_k)^2}{f(x_k)-f(x_k - f(x_k))}\n",
    "$$\n",
    "即Steffsen加速迭代法的公式\n",
    "可以看见，对于求解0点问题，Steffsen方法本质上是Aitken加速迭代法的一种特殊情况\n",
    "\n",
    "这里也可以看出，Aitken加速迭代法其实和Steffsen方法做了同样的工作，即利用两点的弦来近似曲线的曲度，从而形成快速收敛的格式，两者在求解方程时所用到的思想其实是相近的！"
   ]
  },
  {
   "cell_type": "code",
   "execution_count": null,
   "metadata": {},
   "outputs": [],
   "source": []
  }
 ],
 "metadata": {
  "interpreter": {
   "hash": "c58fe46fe3be204fb772683c9d5f0aff0e14dc909e2037d292afe35e8ed6e976"
  },
  "kernelspec": {
   "display_name": "Python 3.8.8 ('kite')",
   "language": "python",
   "name": "python3"
  },
  "language_info": {
   "codemirror_mode": {
    "name": "ipython",
    "version": 3
   },
   "file_extension": ".py",
   "mimetype": "text/x-python",
   "name": "python",
   "nbconvert_exporter": "python",
   "pygments_lexer": "ipython3",
   "version": "3.8.5"
  },
  "orig_nbformat": 4
 },
 "nbformat": 4,
 "nbformat_minor": 2
}
