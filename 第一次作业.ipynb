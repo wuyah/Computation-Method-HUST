{
 "cells": [
  {
   "cell_type": "code",
   "execution_count": 2,
   "metadata": {},
   "outputs": [],
   "source": [
    "import numpy as np"
   ]
  },
  {
   "cell_type": "code",
   "execution_count": 3,
   "metadata": {},
   "outputs": [],
   "source": [
    "import math"
   ]
  },
  {
   "cell_type": "markdown",
   "metadata": {},
   "source": [
    "求矩阵二阶范数"
   ]
  },
  {
   "cell_type": "code",
   "execution_count": 7,
   "metadata": {},
   "outputs": [
    {
     "name": "stdout",
     "output_type": "stream",
     "text": [
      "[[ 5 -4  1]\n",
      " [-4  6 -4]\n",
      " [ 1 -4  5]]\n",
      "[[-2  1  0]\n",
      " [ 1 -2  1]\n",
      " [ 0  1 -2]]\n",
      "[[ 5 -4  1]\n",
      " [-4  6 -4]\n",
      " [ 1 -4  5]]\n",
      "3.414213562373096\n"
     ]
    }
   ],
   "source": [
    "A = np.array([[-2, 1, 0],[1,-2,1],[0,1,-2]])\n",
    "t = A.dot(A.T)\n",
    "print(t)\n",
    "print(A.T)\n",
    "print(A.T.dot(A))\n",
    "a, b = np.linalg.eig(t)\n",
    "print(math.sqrt(max(a)))"
   ]
  },
  {
   "cell_type": "markdown",
   "metadata": {},
   "source": [
    "## 2.1"
   ]
  },
  {
   "cell_type": "code",
   "execution_count": 2,
   "metadata": {},
   "outputs": [],
   "source": [
    "def function1(x:int)->int:\n",
    "    return x - 2**(-x)"
   ]
  },
  {
   "cell_type": "code",
   "execution_count": 3,
   "metadata": {},
   "outputs": [],
   "source": [
    "# 假定左侧一定为负数\n",
    "def bi(left:int, right:int, e:int)->int:\n",
    "    k = 0\n",
    "    while right - left > e:\n",
    "        # 中间值大于0， 则根应当在左侧，需要更新右侧区间\n",
    "        k+= 1\n",
    "        mid = (left + right)/2\n",
    "        res = function1(mid)\n",
    "        if res > 0:\n",
    "            right = mid\n",
    "        elif res < 0:\n",
    "            left = mid\n",
    "    print(k)\n",
    "    print(mid)"
   ]
  },
  {
   "cell_type": "code",
   "execution_count": 4,
   "metadata": {},
   "outputs": [
    {
     "name": "stdout",
     "output_type": "stream",
     "text": [
      "11\n",
      "0.64111328125\n"
     ]
    }
   ],
   "source": [
    "bi(0, 1, 0.0005)"
   ]
  },
  {
   "cell_type": "code",
   "execution_count": 5,
   "metadata": {},
   "outputs": [
    {
     "data": {
      "text/plain": [
       "0.09097292945947055"
      ]
     },
     "execution_count": 5,
     "metadata": {},
     "output_type": "execute_result"
    }
   ],
   "source": [
    "function1(1443/2048)"
   ]
  },
  {
   "cell_type": "markdown",
   "metadata": {},
   "source": [
    "## 2.2"
   ]
  },
  {
   "cell_type": "code",
   "execution_count": 10,
   "metadata": {},
   "outputs": [
    {
     "name": "stdout",
     "output_type": "stream",
     "text": [
      "0.644303360599398\n"
     ]
    }
   ],
   "source": [
    "def function2(x):\n",
    "    return 2*math.cos(x) - 1 - math.sin(x)\n",
    "x2 = 0.67\n",
    "x1 = math.pi/4\n",
    "x3 = x2 - (x2-x1)*function2(x2)/(function2(x2)-function2(x1))\n",
    "print(x3)"
   ]
  },
  {
   "cell_type": "code",
   "execution_count": 11,
   "metadata": {},
   "outputs": [
    {
     "data": {
      "text/plain": [
       "1.0"
      ]
     },
     "execution_count": 11,
     "metadata": {},
     "output_type": "execute_result"
    }
   ],
   "source": [
    "# 测试Function2是否正确\n",
    "function2(0)"
   ]
  },
  {
   "cell_type": "code",
   "execution_count": 12,
   "metadata": {},
   "outputs": [],
   "source": [
    "# 用作Steffensen方法的辅助函数，也可以不使用，这里是为了让代码看起来更加简洁\n",
    "def function3(x0):\n",
    "    return function2(x0 - function2(x0))"
   ]
  },
  {
   "cell_type": "code",
   "execution_count": 13,
   "metadata": {},
   "outputs": [
    {
     "data": {
      "text/plain": [
       "0.922075596544176"
      ]
     },
     "execution_count": 13,
     "metadata": {},
     "output_type": "execute_result"
    }
   ],
   "source": [
    "# Function3（0）应当和Function2（0）是同一个数字\n",
    "function3(0)"
   ]
  },
  {
   "cell_type": "code",
   "execution_count": 15,
   "metadata": {},
   "outputs": [
    {
     "data": {
      "text/plain": [
       "0.922075596544176"
      ]
     },
     "execution_count": 15,
     "metadata": {},
     "output_type": "execute_result"
    }
   ],
   "source": [
    "function2(-1)"
   ]
  },
  {
   "cell_type": "code",
   "execution_count": 17,
   "metadata": {},
   "outputs": [
    {
     "name": "stdout",
     "output_type": "stream",
     "text": [
      "-12.832950342275112\n",
      "-14.289792077227885\n"
     ]
    }
   ],
   "source": [
    "x0 = 0\n",
    "x1 = x0 - function2(x0)*function2(x0)/(function2(x0)-function3(x0))\n",
    "print(x1)\n",
    "x0 = x1\n",
    "x1 = x0 - function2(x0)*function2(x0)/(function2(x0)-function3(x0))\n",
    "print(x1)"
   ]
  },
  {
   "cell_type": "markdown",
   "metadata": {},
   "source": [
    "## 2.3"
   ]
  },
  {
   "cell_type": "code",
   "execution_count": 29,
   "metadata": {},
   "outputs": [],
   "source": [
    "def Steffsen(x0):\n",
    "    k = 10\n",
    "    while k > 0:\n",
    "        x1 = x0 - function2(x0)*function2(x0)/(function2(x0)-function3(x0))\n",
    "        x0 = x1\n",
    "        print(x1)\n",
    "        k -= 1\n",
    "    print(function2(x1))"
   ]
  },
  {
   "cell_type": "code",
   "execution_count": 30,
   "metadata": {},
   "outputs": [
    {
     "name": "stdout",
     "output_type": "stream",
     "text": [
      "-12.832950342275112\n",
      "-14.289792077227885\n",
      "-14.130872141547208\n",
      "-14.137157066125226\n",
      "-14.13716694112969\n",
      "-14.137166941154069\n",
      "-14.137166941154069\n",
      "-14.137166941154069\n",
      "-14.137166941154069\n",
      "-14.137166941154069\n",
      "1.1102230246251565e-15\n"
     ]
    }
   ],
   "source": [
    "Steffsen(0)"
   ]
  },
  {
   "cell_type": "code",
   "execution_count": 26,
   "metadata": {},
   "outputs": [
    {
     "name": "stdout",
     "output_type": "stream",
     "text": [
      "0.6518968616471251\n",
      "0.6435524348604265\n",
      "0.6435011107687033\n",
      "0.6435011087932843\n",
      "0.6435011087932844\n",
      "0.6435011087932845\n",
      "0.6435011087932844\n",
      "0.6435011087932845\n",
      "0.6435011087932844\n",
      "0.6435011087932845\n",
      "-2.220446049250313e-16\n"
     ]
    }
   ],
   "source": [
    "Steffsen(math.pi/4)"
   ]
  },
  {
   "cell_type": "code",
   "execution_count": 16,
   "metadata": {},
   "outputs": [
    {
     "data": {
      "text/plain": [
       "12.832950342275112"
      ]
     },
     "execution_count": 16,
     "metadata": {},
     "output_type": "execute_result"
    }
   ],
   "source": [
    "function2(0)/ (function2(0)-function3(0))"
   ]
  },
  {
   "cell_type": "code",
   "execution_count": 31,
   "metadata": {},
   "outputs": [
    {
     "data": {
      "text/plain": [
       "1.7099759466766968"
      ]
     },
     "execution_count": 31,
     "metadata": {},
     "output_type": "execute_result"
    }
   ],
   "source": [
    "5 ** (1/3)"
   ]
  },
  {
   "cell_type": "code",
   "execution_count": 32,
   "metadata": {},
   "outputs": [],
   "source": [
    "def fff(x):\n",
    "    return 2 * x /3*((1+x*x)**(1/3)) - 1"
   ]
  },
  {
   "cell_type": "code",
   "execution_count": 38,
   "metadata": {},
   "outputs": [
    {
     "data": {
      "text/plain": [
       "0.4812480342036851"
      ]
     },
     "execution_count": 38,
     "metadata": {},
     "output_type": "execute_result"
    }
   ],
   "source": [
    "fff(1.5)"
   ]
  },
  {
   "cell_type": "code",
   "execution_count": 36,
   "metadata": {},
   "outputs": [
    {
     "data": {
      "text/plain": [
       "0.15311686226040067"
      ]
     },
     "execution_count": 36,
     "metadata": {},
     "output_type": "execute_result"
    }
   ],
   "source": [
    "fff(2 ** (1/3))"
   ]
  },
  {
   "cell_type": "markdown",
   "metadata": {},
   "source": [
    "## 2.4"
   ]
  },
  {
   "cell_type": "code",
   "execution_count": 39,
   "metadata": {},
   "outputs": [],
   "source": [
    "def func4(x0):\n",
    "    return (1+x0*x0) ** (1/3)"
   ]
  },
  {
   "cell_type": "code",
   "execution_count": 50,
   "metadata": {},
   "outputs": [],
   "source": [
    "def func5(x0):\n",
    "    return 1+1/(x0*x0)"
   ]
  },
  {
   "cell_type": "code",
   "execution_count": 57,
   "metadata": {},
   "outputs": [],
   "source": [
    "def func6(x0):\n",
    "    return 1/(x0 - 1) ** (0.5)"
   ]
  },
  {
   "cell_type": "code",
   "execution_count": 51,
   "metadata": {},
   "outputs": [
    {
     "data": {
      "text/plain": [
       "1.25"
      ]
     },
     "execution_count": 51,
     "metadata": {},
     "output_type": "execute_result"
    }
   ],
   "source": [
    "func5(2)"
   ]
  },
  {
   "cell_type": "markdown",
   "metadata": {},
   "source": [
    "### Picard 迭代法"
   ]
  },
  {
   "cell_type": "code",
   "execution_count": 59,
   "metadata": {},
   "outputs": [],
   "source": [
    "def Picard(x0, k, func):\n",
    "    while k>0:\n",
    "        x1 = func(x0)\n",
    "        x0 = x1\n",
    "        print(x1)\n",
    "        k-=1\n",
    "    return x0"
   ]
  },
  {
   "cell_type": "code",
   "execution_count": 61,
   "metadata": {},
   "outputs": [
    {
     "name": "stdout",
     "output_type": "stream",
     "text": [
      "1.4812480342036851\n",
      "1.4727057296393942\n",
      "1.4688173136644993\n",
      "1.4670479732005974\n",
      "1.466243010114747\n",
      "1.4658768201688133\n",
      "1.465710240775865\n",
      "1.4656344652385098\n",
      "1.4655999958533155\n",
      "1.4655843161956508\n"
     ]
    },
    {
     "data": {
      "text/plain": [
       "1.4655843161956508"
      ]
     },
     "execution_count": 61,
     "metadata": {},
     "output_type": "execute_result"
    }
   ],
   "source": [
    "Picard(1.5, 10, lambda x0: (1+x0*x0) ** (1/3))"
   ]
  }
 ],
 "metadata": {
  "interpreter": {
   "hash": "271520d9f8876fa56087d92bb138cc619c4a687ce6e1311621c69b25dedf1981"
  },
  "kernelspec": {
   "display_name": "Python 3.8.5 ('base')",
   "language": "python",
   "name": "python3"
  },
  "language_info": {
   "codemirror_mode": {
    "name": "ipython",
    "version": 3
   },
   "file_extension": ".py",
   "mimetype": "text/x-python",
   "name": "python",
   "nbconvert_exporter": "python",
   "pygments_lexer": "ipython3",
   "version": "3.8.5"
  },
  "orig_nbformat": 4
 },
 "nbformat": 4,
 "nbformat_minor": 2
}
